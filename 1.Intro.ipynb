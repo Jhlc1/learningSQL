{
 "cells": [
  {
   "cell_type": "code",
   "execution_count": 14,
   "metadata": {},
   "outputs": [],
   "source": [
    "import sqlite3\n",
    "conexion= sqlite3.connect(\"mibase1.db\")\n",
    "#creacion del cursor\n"
   ]
  },
  {
   "cell_type": "code",
   "execution_count": 4,
   "metadata": {},
   "outputs": [
    {
     "name": "stdout",
     "output_type": "stream",
     "text": [
      "Se ha creado la tabla con exito\n"
     ]
    }
   ],
   "source": [
    "#conexion= sqlite3.connect(\"mibase1.db\")\n",
    "#cursor = conexion.cursor()\n",
    "\n",
    "#cursor.execute(\"\"\"\n",
    "#        create table estudiantes(\n",
    "#               nombre text,\n",
    "#               apellido text,\n",
    "#               edad int,\n",
    "#               email text, \n",
    "#               id varchar(20)\n",
    "#               )\n",
    "#             \"\"\")\n",
    "\n",
    "#print(\"Se ha creado la tabla con exito\")\n",
    "\n",
    "#conexion.commit()\n",
    "#conexion.close()"
   ]
  },
  {
   "cell_type": "code",
   "execution_count": 18,
   "metadata": {},
   "outputs": [
    {
     "name": "stdout",
     "output_type": "stream",
     "text": [
      "('adan', 'nacho', 26, 'anacho@gmail.com', '1')\n"
     ]
    }
   ],
   "source": [
    "# insert de datos\n",
    "\n",
    "#cursor.execute(\n",
    "#    \"\"\"\n",
    "#    insert into estudiantes(nombre,apellido,edad, email, id)\n",
    "#    values(\"adan\",\"nacho\",26,\"anacho@gmail.com\",1)\n",
    "#    \"\"\"\n",
    "#)\n",
    "#print(\"Se ha agregado datos\")\n",
    "\n",
    "conexion= sqlite3.connect(\"mibase1.db\")\n",
    "cursor = conexion.cursor()\n",
    "\n",
    "#consulta\n",
    "datos= cursor.execute(\"select * from estudiantes\")\n",
    "for row in  datos:\n",
    "    print (row)\n",
    "conexion.commit()\n",
    "conexion.close()\n"
   ]
  },
  {
   "cell_type": "code",
   "execution_count": null,
   "metadata": {},
   "outputs": [],
   "source": [
    "##conexion con la base de datos\n",
    "conexion= sqlite3.connect(\"mibase1.db\")\n",
    "cursor = conexion.cursor()\n",
    "datos= cursor.execute(\"\"\"\n",
    "\n",
    "\"\"\")\n",
    "\n",
    "for row in  datos:\n",
    "    print (row)\n",
    "conexion.commit()\n",
    "conexion.close()"
   ]
  },
  {
   "cell_type": "markdown",
   "metadata": {},
   "source": [
    "Creacion de una base de datos Peliculas.db, con la tabla peliculas"
   ]
  },
  {
   "cell_type": "code",
   "execution_count": null,
   "metadata": {},
   "outputs": [],
   "source": [
    "import sqlite3\n",
    "\n",
    "con=sqlite3.connect(\"Peliculas.db\")\n",
    "\n",
    "cursor=con.cursor()\n",
    "\n",
    "    #creacion de la tabla con sus variables\n",
    "sql= \"\"\"\n",
    "    create table peliculas(\n",
    "        nombre varchar,\n",
    "        año int,\n",
    "        duracion int,\n",
    "        genero varchar\n",
    "    )\n",
    "\"\"\"\n",
    "\n",
    "\n",
    "cursor.execute(sql)\n"
   ]
  },
  {
   "cell_type": "code",
   "execution_count": 20,
   "metadata": {},
   "outputs": [],
   "source": [
    "#parte obligatoria\n",
    "con=sqlite3.connect(\"Peliculas.db\")\n",
    "cursor=con.cursor()\n",
    "\n",
    "# insertamos en la tabla de la base de datos\n",
    "\n",
    "cursor.execute(\"\"\"\n",
    "    insert into peliculas(nombre,año, duracion,genero)\n",
    "    values (\"El padrino\",1972,175,\"Drama\")\n",
    "\n",
    "\"\"\")\n",
    "cursor.execute(\"\"\"\n",
    "    insert into peliculas(nombre,año, duracion,genero)\n",
    "    values (\"El A\",2001,180,\"Fantasia\")\n",
    "\n",
    "\"\"\")\n",
    "cursor.execute(\"\"\"\n",
    "    insert into peliculas(nombre,año, duracion,genero)\n",
    "    values (\"El B\",2005,175,\"Drama\")\n",
    "\n",
    "\"\"\")\n",
    "cursor.execute(\"\"\"\n",
    "    insert into peliculas(nombre,año, duracion,genero)\n",
    "    values (\"El C\",1999,90,\"Drama\")\n",
    "\n",
    "\"\"\")\n",
    "\n",
    "# commit y cerramos el cursor\n",
    "con.commit()\n",
    "con.close()"
   ]
  },
  {
   "cell_type": "code",
   "execution_count": 2,
   "metadata": {},
   "outputs": [
    {
     "name": "stdout",
     "output_type": "stream",
     "text": [
      "[('El A', 2001, 180, 'Fantasia')]\n"
     ]
    }
   ],
   "source": [
    "# consulta de peliculas cuya duracion >175\n",
    "con=sqlite3.connect(\"Peliculas.db\")\n",
    "cursor=con.cursor()\n",
    "\n",
    "cursor.execute(\n",
    "    \"\"\"\n",
    "    select * from peliculas where duracion >175\n",
    "    \"\"\"\n",
    ")\n",
    "\n",
    "print(cursor.fetchall())    ##imprimir los registros que cumplen con el criterio\n",
    "\n",
    "con.commit()\n",
    "con.close()"
   ]
  },
  {
   "cell_type": "code",
   "execution_count": 3,
   "metadata": {},
   "outputs": [
    {
     "name": "stdout",
     "output_type": "stream",
     "text": [
      "[('El padrino', 1972, 175, 'Drama'), ('El B', 2005, 175, 'Drama'), ('El C', 1999, 90, 'Drama')]\n"
     ]
    }
   ],
   "source": [
    "# consulta de peliculas cuya año<3000 y genero  = \"Drama\"\n",
    "\n",
    "con=sqlite3.connect(\"Peliculas.db\")\n",
    "\n",
    "cursor=con.cursor()\n",
    "\n",
    "cursor.execute(\n",
    "    \"\"\"\n",
    "    select * from peliculas where año <3000 and genero == 'Drama'\n",
    "    \"\"\"\n",
    ")\n",
    "\n",
    "print(cursor.fetchall())    ##imprimir los registros que cumplen con el criterio\n",
    "con.commit()\n",
    "con.close()"
   ]
  },
  {
   "cell_type": "markdown",
   "metadata": {},
   "source": [
    "# order by"
   ]
  },
  {
   "cell_type": "code",
   "execution_count": 9,
   "metadata": {},
   "outputs": [
    {
     "name": "stdout",
     "output_type": "stream",
     "text": [
      "[('El B', 2005), ('El A', 2001), ('El C', 1999), ('El padrino', 1972)]\n"
     ]
    }
   ],
   "source": [
    "con=sqlite3.connect(\"Peliculas.db\")\n",
    "cursor=con.cursor()\n",
    "\n",
    "sql=  \"\"\"\n",
    "    select nombre,año from peliculas order by año desc\n",
    "\"\"\"\n",
    "\n",
    "cursor.execute(sql)\n",
    "\n",
    "datos=cursor.fetchall()\n",
    "\n",
    "print(datos)    ##imprimir los registros que cumplen con el criterio\n",
    "\n",
    "con.commit()\n",
    "con.close()"
   ]
  },
  {
   "cell_type": "markdown",
   "metadata": {},
   "source": [
    "# muestra de datos con for"
   ]
  },
  {
   "cell_type": "code",
   "execution_count": 15,
   "metadata": {},
   "outputs": [
    {
     "name": "stdout",
     "output_type": "stream",
     "text": [
      "El B  del año   2005\n",
      "El A  del año   2001\n",
      "El C  del año   1999\n",
      "El padrino  del año   1972\n"
     ]
    }
   ],
   "source": [
    "con=sqlite3.connect(\"Peliculas.db\")\n",
    "cursor=con.cursor()\n",
    "\n",
    "sql=  \"\"\"\n",
    "    select nombre,año from peliculas \n",
    "    where año <3000\n",
    "    order by año desc\n",
    "\"\"\"\n",
    "\n",
    "cursor.execute(sql)\n",
    "\n",
    "datos=cursor.fetchall()\n",
    "\n",
    "for x,y in datos:\n",
    "    print(x, ' del año  ',y)\n",
    "\n",
    "con.commit()\n",
    "con.close()"
   ]
  },
  {
   "cell_type": "code",
   "execution_count": 56,
   "metadata": {},
   "outputs": [
    {
     "name": "stdout",
     "output_type": "stream",
     "text": [
      "[('El padrino', 1972, 175, 'B')]\n"
     ]
    }
   ],
   "source": [
    "con=sqlite3.connect(\"Peliculas.db\")\n",
    "cursor=con.cursor()\n",
    "\n",
    "## acá modificamos\n",
    "\n",
    "#update\n",
    "sql_u=  \"\"\"\n",
    "    update  peliculas set genero = 'B' where año ==1972\n",
    "\"\"\"\n",
    "#mostramos con select\n",
    "sql_mostrar= \"\"\"\n",
    "    select * from peliculas where año =1972\n",
    "\"\"\"\n",
    "cursor.execute(sql_mostrar)\n",
    "\n",
    "datos=cursor.fetchall()\n",
    "print(datos)\n",
    "\n",
    "#con.rollback(), si no pongo commit se hace un autorollback\n",
    "con.commit()\n",
    "con.close()"
   ]
  },
  {
   "cell_type": "code",
   "execution_count": 45,
   "metadata": {},
   "outputs": [],
   "source": [
    "con=sqlite3.connect(\"Peliculas.db\")\n",
    "cursor=con.cursor()\n",
    "con.rollback()\n"
   ]
  },
  {
   "cell_type": "markdown",
   "metadata": {},
   "source": [
    "# Update\n"
   ]
  },
  {
   "cell_type": "code",
   "execution_count": null,
   "metadata": {},
   "outputs": [],
   "source": [
    "con=sqlite3.connect(\"Peliculas.db\")\n",
    "cursor=con.cursor()\n",
    "\n",
    "sql= \"\"\"\n",
    "    update estudiantes set calificacion =calificacion +10\n",
    "    where calificacion<=60\n",
    "\"\"\"\n",
    "\n",
    "cursor.execute(sql)\n",
    "con.commit()\n",
    "con.close()"
   ]
  },
  {
   "cell_type": "markdown",
   "metadata": {},
   "source": [
    "# Delete"
   ]
  },
  {
   "cell_type": "code",
   "execution_count": 59,
   "metadata": {},
   "outputs": [
    {
     "name": "stdout",
     "output_type": "stream",
     "text": [
      "[('El A', 2001, 180, 'Fantasia'), ('El B', 2005, 175, 'Drama'), ('El C', 1999, 90, 'Drama')]\n"
     ]
    }
   ],
   "source": [
    "con=sqlite3.connect(\"Peliculas.db\")\n",
    "cursor=con.cursor()\n",
    "\n",
    "sql= \"\"\"\n",
    "    delete from Peliculas\n",
    "    where genero=='B'\n",
    "\"\"\"\n",
    "\n",
    "sql_1= \"\"\"\n",
    "    select * from peliculas\n",
    "\"\"\"\n",
    "\n",
    "cursor.execute(sql_1)\n",
    "\n",
    "datos=cursor.fetchall()\n",
    "print(datos)\n",
    "\n",
    "con.commit()\n",
    "con.close()"
   ]
  },
  {
   "cell_type": "code",
   "execution_count": null,
   "metadata": {},
   "outputs": [],
   "source": []
  },
  {
   "cell_type": "code",
   "execution_count": null,
   "metadata": {},
   "outputs": [],
   "source": []
  }
 ],
 "metadata": {
  "kernelspec": {
   "display_name": "Python 3",
   "language": "python",
   "name": "python3"
  },
  "language_info": {
   "codemirror_mode": {
    "name": "ipython",
    "version": 3
   },
   "file_extension": ".py",
   "mimetype": "text/x-python",
   "name": "python",
   "nbconvert_exporter": "python",
   "pygments_lexer": "ipython3",
   "version": "3.10.4"
  }
 },
 "nbformat": 4,
 "nbformat_minor": 2
}
